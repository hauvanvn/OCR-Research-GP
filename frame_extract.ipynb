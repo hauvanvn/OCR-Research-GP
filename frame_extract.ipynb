{
 "cells": [
  {
   "cell_type": "code",
   "execution_count": 1,
   "id": "d5ab46e9",
   "metadata": {},
   "outputs": [],
   "source": [
    "import cv2\n",
    "import pytesseract\n",
    "import json\n",
    "\n",
    "pytesseract.pytesseract.tesseract_cmd = r'C:\\Program Files\\Tesseract-OCR\\tesseract.exe'"
   ]
  },
  {
   "cell_type": "code",
   "execution_count": 6,
   "id": "51173e93",
   "metadata": {},
   "outputs": [
    {
     "name": "stdout",
     "output_type": "stream",
     "text": [
      "25\n"
     ]
    }
   ],
   "source": [
    "# 📽 Input video\n",
    "video_path = \"Vid_source/VD_0001.mp4\"\n",
    "\n",
    "# 🎥 Open video\n",
    "cap = cv2.VideoCapture(video_path)\n",
    "fps = cap.get(cv2.CAP_PROP_FPS)\n",
    "fps = int(fps)\n",
    "frame_data = {}\n",
    "frame_num = 0\n",
    "\n",
    "cur_frame = 0\n",
    "frame_milestone = 25\n",
    "print(fps)"
   ]
  },
  {
   "cell_type": "code",
   "execution_count": 7,
   "id": "09f8bc69",
   "metadata": {},
   "outputs": [],
   "source": [
    "while cap.isOpened():\n",
    "    ret, frame = cap.read()\n",
    "    if not ret:\n",
    "        break\n",
    "\n",
    "    cur_frame += 1\n",
    "    if cur_frame % frame_milestone != 0:\n",
    "        continue\n",
    "\n",
    "    h, w, _ = frame.shape\n",
    "    boxes = pytesseract.image_to_data(frame, output_type=pytesseract.Output.DICT, lang='vie')\n",
    "\n",
    "    seconds = (cur_frame - 1) // fps + 1 \n",
    "    data_for_frame = []\n",
    "\n",
    "    for i in range(len(boxes['text'])):\n",
    "        if int(boxes['conf'][i]) > 60 and boxes['text'][i].strip():\n",
    "            x = boxes['left'][i]\n",
    "            y = boxes['top'][i]\n",
    "            bw = boxes['width'][i]\n",
    "            bh = boxes['height'][i]\n",
    "            text = boxes['text'][i].strip()\n",
    "\n",
    "            if text is None or text == \"\":\n",
    "                continue\n",
    "\n",
    "            # Normalize coordinates (values from 0 to 1)\n",
    "            data_for_frame.append({\n",
    "                \"bbox\": [x / w, y / h, bw / w, bh / h],\n",
    "                \"text\": text\n",
    "            })\n",
    "\n",
    "    if data_for_frame:\n",
    "        frame_data[str(seconds)] = data_for_frame\n",
    "        # frame_num += 1\n",
    "\n",
    "cap.release()"
   ]
  },
  {
   "cell_type": "code",
   "execution_count": 10,
   "id": "cf1ce6f4",
   "metadata": {},
   "outputs": [
    {
     "name": "stdout",
     "output_type": "stream",
     "text": [
      "✅ OCR data saved to ocr_data.json\n"
     ]
    }
   ],
   "source": [
    "# 💾 Save to JSON\n",
    "ratio = fps / frame_milestone\n",
    "\n",
    "output = {\n",
    "    \"fps\": fps,\n",
    "    \"data\": frame_data,\n",
    "    \"ratio\" : ratio\n",
    "}\n",
    "\n",
    "with open(\"ocr_data.json\", \"w\") as f:\n",
    "    json.dump(output, f, indent=2)\n",
    "\n",
    "print(\"✅ OCR data saved to ocr_data.json\")"
   ]
  }
 ],
 "metadata": {
  "kernelspec": {
   "display_name": "Virtual_env",
   "language": "python",
   "name": "python3"
  },
  "language_info": {
   "codemirror_mode": {
    "name": "ipython",
    "version": 3
   },
   "file_extension": ".py",
   "mimetype": "text/x-python",
   "name": "python",
   "nbconvert_exporter": "python",
   "pygments_lexer": "ipython3",
   "version": "3.13.2"
  }
 },
 "nbformat": 4,
 "nbformat_minor": 5
}
